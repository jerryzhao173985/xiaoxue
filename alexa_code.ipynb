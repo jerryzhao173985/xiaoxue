{
 "cells": [
  {
   "cell_type": "code",
   "execution_count": 21,
   "id": "cd863caf",
   "metadata": {},
   "outputs": [
    {
     "name": "stdout",
     "output_type": "stream",
     "text": [
      "Collecting matplotlib\n",
      "  Downloading matplotlib-3.6.2-cp39-cp39-macosx_10_12_x86_64.whl (7.3 MB)\n",
      "\u001b[2K     \u001b[90m━━━━━━━━━━━━━━━━━━━━━━━━━━━━━━━━━━━━━━━━\u001b[0m \u001b[32m7.3/7.3 MB\u001b[0m \u001b[31m2.3 MB/s\u001b[0m eta \u001b[36m0:00:00\u001b[0m00:01\u001b[0m00:01\u001b[0m0m\n",
      "\u001b[?25hRequirement already satisfied: numpy>=1.19 in /Users/jerry/opt/anaconda3/envs/xue/lib/python3.9/site-packages (from matplotlib) (1.23.4)\n",
      "Collecting fonttools>=4.22.0\n",
      "  Downloading fonttools-4.38.0-py3-none-any.whl (965 kB)\n",
      "\u001b[2K     \u001b[90m━━━━━━━━━━━━━━━━━━━━━━━━━━━━━━━━━━━━━━━\u001b[0m \u001b[32m965.4/965.4 kB\u001b[0m \u001b[31m7.1 MB/s\u001b[0m eta \u001b[36m0:00:00\u001b[0m00:01\u001b[0m00:01\u001b[0m\n",
      "\u001b[?25hCollecting kiwisolver>=1.0.1\n",
      "  Downloading kiwisolver-1.4.4-cp39-cp39-macosx_10_9_x86_64.whl (65 kB)\n",
      "\u001b[2K     \u001b[90m━━━━━━━━━━━━━━━━━━━━━━━━━━━━━━━━━━━━━━━━\u001b[0m \u001b[32m65.5/65.5 kB\u001b[0m \u001b[31m1.9 MB/s\u001b[0m eta \u001b[36m0:00:00\u001b[0m\n",
      "\u001b[?25hCollecting pillow>=6.2.0\n",
      "  Downloading Pillow-9.3.0-cp39-cp39-macosx_10_10_x86_64.whl (3.3 MB)\n",
      "\u001b[2K     \u001b[90m━━━━━━━━━━━━━━━━━━━━━━━━━━━━━━━━━━━━━━━━\u001b[0m \u001b[32m3.3/3.3 MB\u001b[0m \u001b[31m3.8 MB/s\u001b[0m eta \u001b[36m0:00:00\u001b[0m00:01\u001b[0m00:01\u001b[0m\n",
      "\u001b[?25hRequirement already satisfied: python-dateutil>=2.7 in /Users/jerry/opt/anaconda3/envs/xue/lib/python3.9/site-packages (from matplotlib) (2.8.2)\n",
      "Collecting cycler>=0.10\n",
      "  Downloading cycler-0.11.0-py3-none-any.whl (6.4 kB)\n",
      "Requirement already satisfied: pyparsing>=2.2.1 in /Users/jerry/opt/anaconda3/envs/xue/lib/python3.9/site-packages (from matplotlib) (3.0.9)\n",
      "Requirement already satisfied: packaging>=20.0 in /Users/jerry/opt/anaconda3/envs/xue/lib/python3.9/site-packages (from matplotlib) (21.3)\n",
      "Collecting contourpy>=1.0.1\n",
      "  Downloading contourpy-1.0.6-cp39-cp39-macosx_10_9_x86_64.whl (240 kB)\n",
      "\u001b[2K     \u001b[90m━━━━━━━━━━━━━━━━━━━━━━━━━━━━━━━━━━━━━━━\u001b[0m \u001b[32m240.8/240.8 kB\u001b[0m \u001b[31m2.1 MB/s\u001b[0m eta \u001b[36m0:00:00\u001b[0ma \u001b[36m0:00:01\u001b[0m\n",
      "\u001b[?25hRequirement already satisfied: six>=1.5 in /Users/jerry/opt/anaconda3/envs/xue/lib/python3.9/site-packages (from python-dateutil>=2.7->matplotlib) (1.16.0)\n",
      "Installing collected packages: pillow, kiwisolver, fonttools, cycler, contourpy, matplotlib\n",
      "Successfully installed contourpy-1.0.6 cycler-0.11.0 fonttools-4.38.0 kiwisolver-1.4.4 matplotlib-3.6.2 pillow-9.3.0\n"
     ]
    }
   ],
   "source": [
    "!pip install matplotlib"
   ]
  },
  {
   "cell_type": "code",
   "execution_count": 22,
   "id": "e3f48afc",
   "metadata": {},
   "outputs": [],
   "source": [
    "%matplotlib inline"
   ]
  },
  {
   "cell_type": "code",
   "execution_count": null,
   "id": "3e29da5a",
   "metadata": {},
   "outputs": [],
   "source": []
  },
  {
   "cell_type": "code",
   "execution_count": 2,
   "id": "33c7dcac",
   "metadata": {},
   "outputs": [],
   "source": [
    "import xpress as xp"
   ]
  },
  {
   "cell_type": "code",
   "execution_count": 1,
   "id": "cce6d08e",
   "metadata": {},
   "outputs": [],
   "source": [
    "import pandas as pd\n",
    "import numpy as np\n",
    "import os"
   ]
  },
  {
   "cell_type": "code",
   "execution_count": 11,
   "id": "8b1ceb74",
   "metadata": {},
   "outputs": [],
   "source": [
    "charg_point_path = os.path.join('Project_data/Charging_points.xlsx')\n",
    "charg_point_df = pd.read_excel(charg_point_path)\n",
    "\n",
    "demand_path = os.path.join('Project_data/Demand_data.xlsx')\n",
    "demand_df = pd.read_excel(demand_path)\n",
    "\n",
    "# points of interest in each grid\n",
    "interest_point_path = os.path.join('Project_data/Interest _points.xlsx')\n",
    "interest_point_df = pd.read_excel(interest_point_path)\n",
    "\n",
    "amenity1 = set(interest_point['amenity'])\n",
    "\n",
    "# potential charging points\n",
    "pt_charg_point_path = os.path.join('Project_data/Potential_charging_points.xlsx')\n",
    "pt_charg_point_df = pd.read_excel(pt_charg_point_path)\n",
    "\n",
    "amenity2 = set(pt_charg_point['amenity'])"
   ]
  },
  {
   "cell_type": "code",
   "execution_count": 9,
   "id": "df1026e5",
   "metadata": {},
   "outputs": [],
   "source": [
    "## DEFINE\n",
    "number_of_grids = 434\n",
    "number_of_years = 4\n",
    "grids = range(number_of_grids)\n",
    "years = range(number_of_years)\n",
    "\n",
    "# the demand every slow/ fast/ rapid chargers can satisfy\n",
    "slow_c = [2000, 3500]\n",
    "fast_c = [4000, 5200]\n",
    "rapid_c = [30000, 50500]"
   ]
  },
  {
   "cell_type": "code",
   "execution_count": null,
   "id": "562bd96a",
   "metadata": {},
   "outputs": [],
   "source": []
  },
  {
   "cell_type": "code",
   "execution_count": 47,
   "id": "8c8a609d",
   "metadata": {},
   "outputs": [
    {
     "name": "stdout",
     "output_type": "stream",
     "text": [
      "Index(['CP ID', 'Type', 'geometry', 'Latitude', 'Longitude', 'grid number'], dtype='object')\n",
      "[146  76 304 304 214 134 314 214 199 199 147 263 199 129 186 216 216 216\n",
      " 216 216 300 216 216 216 216 216 345 369 369 301 300 274 263 259 288 205\n",
      " 205 150 163  76 117 117  59  91 103 144 190 189 159 189 189 189 189 189\n",
      " 190 189 160 160 160 173 173 228 228 228 214 214 214 199 200 200 200 200\n",
      " 200 200 200 200 202 185]\n",
      "369\n"
     ]
    }
   ],
   "source": [
    "## for visualizations\n",
    "print(charg_point_df.columns)\n",
    "charg_point_index = charg_point_df['grid number'].to_numpy()\n",
    "print(charg_point_index)\n",
    "print(max(charg_point_index))"
   ]
  },
  {
   "cell_type": "markdown",
   "id": "e59a4c8c",
   "metadata": {},
   "source": [
    "## Plot the map with the existing charging and potantial charging points"
   ]
  },
  {
   "cell_type": "code",
   "execution_count": 43,
   "id": "0dccee5d",
   "metadata": {},
   "outputs": [
    {
     "data": {
      "image/png": "[encoded data removed]",
      "text/plain": [
       "<Figure size 1200x600 with 1 Axes>"
      ]
     },
     "metadata": {},
     "output_type": "display_data"
    }
   ],
   "source": [
    "map_T = np.zeros((31, 14))\n",
    "for num in charg_point_index:\n",
    "    num = num-1\n",
    "    x = num//14\n",
    "    y = num %14\n",
    "    map_T[x , y] = 1\n",
    "\n",
    "import numpy as np\n",
    "from matplotlib import pyplot as plt\n",
    "from matplotlib import colors\n",
    "\n",
    "cmap = colors.ListedColormap(['Blue','red'])\n",
    "plt.figure(figsize=(12,6))\n",
    "plt.pcolor(map_T.T,cmap=cmap,edgecolors='k', linewidths=3)\n",
    "plt.show()"
   ]
  },
  {
   "cell_type": "code",
   "execution_count": 52,
   "id": "625d7792",
   "metadata": {},
   "outputs": [
    {
     "name": "stdout",
     "output_type": "stream",
     "text": [
      "Index(['amenity', 'geometry', 'Latitude', 'Longitude', 'grid number'], dtype='object')\n",
      "[400 398 369 369 369 369 369 369 355 214 214 214 214 214 200 199 200 134\n",
      " 228 214 147 214 214 214 185 369 369  76 214 186 199 199 228 399 214 214\n",
      " 199 214 214 214 214 200 230 171 200 217 369 369 214 228 200 214 214 214\n",
      " 199 171 214 199 199 143 229 213 185 119 119 215 215 229 290 290 200 355\n",
      " 185 228 185 214 213 214 214 371 356 300 243 300 245 175 143 305 329 160\n",
      " 150 171 230 216 234 202 119 160 117 315 274 214 214 215 199 176 176 383\n",
      " 200 214 176 151 314 200 161 344 399 247 229 170 172  91 205 146 230 397\n",
      " 355 150 192 150 356 175 104 191 272 164 103 162 214  91 134 193 193 164\n",
      " 215 304 290 273 287 262 189]\n",
      "400\n"
     ]
    }
   ],
   "source": [
    "## for visualizations\n",
    "print(interest_point_df.columns)\n",
    "interest_point_index = interest_point_df['grid number'].to_numpy()\n",
    "print(interest_point_index)\n",
    "print(max(interest_point_index))"
   ]
  },
  {
   "cell_type": "code",
   "execution_count": 53,
   "id": "7a940acb",
   "metadata": {},
   "outputs": [
    {
     "data": {
      "image/png": "[encoded data removed]",
      "text/plain": [
       "<Figure size 1200x600 with 1 Axes>"
      ]
     },
     "metadata": {},
     "output_type": "display_data"
    }
   ],
   "source": [
    "map_T = np.zeros((31, 14))\n",
    "for num in interest_point_index:\n",
    "    num = num-1\n",
    "    x = num//14\n",
    "    y = num %14\n",
    "    map_T[x , y] = 1\n",
    "\n",
    "import numpy as np\n",
    "from matplotlib import pyplot as plt\n",
    "from matplotlib import colors\n",
    "\n",
    "cmap = colors.ListedColormap(['Blue','red'])\n",
    "plt.figure(figsize=(12,6))\n",
    "plt.pcolor(map_T.T,cmap=cmap,edgecolors='k', linewidths=3)\n",
    "plt.show()"
   ]
  },
  {
   "cell_type": "code",
   "execution_count": null,
   "id": "3ba0cefa",
   "metadata": {},
   "outputs": [],
   "source": []
  },
  {
   "cell_type": "code",
   "execution_count": 54,
   "id": "87d2218e",
   "metadata": {},
   "outputs": [
    {
     "name": "stdout",
     "output_type": "stream",
     "text": [
      "Index(['amenity', 'geometry', 'Latitude', 'Longitude', 'grid number'], dtype='object')\n",
      "[ 89 412 328 228 200 198 176 102 145 299 214 248 171 191 200 186 214 200\n",
      " 116 116 228 228  88  88 228 369 369 399 400 199 214 215 214 200 184 215\n",
      " 107 106 107 107 121 123 109 121  88 188 145 199 242 213 117 117 103 229\n",
      " 228 229 115 129 176 176 176 176 176 200 200 199 200 213 214 382 199 199\n",
      " 199 355 228 201 176 215 215 185 185 129 213 117 103 103 103 117 103 103\n",
      " 103 199 203 216 199 156 129 184 198 228 229 228 228 200 200 200 247 233\n",
      " 247 217 217 249 234 345 331 345 291 101 213 199 199 213 199 199 233 176\n",
      " 176 400 400 214 185 199 397 185 146 342 356 355 355 369 355 228 327  90\n",
      " 200 369 185 149 134 157 187 189 104 369 369 191  90 286 272 328 343 147\n",
      "  89 213 202 202 201 246 215 177 103 230 230 202 144  91 115 115 171 161\n",
      " 160 161 161  61  61 185 355 205 171 171 200 162 229 316 316 103 103 116\n",
      " 116 116 102  89 143 102 213 146 146 192 192 200 200 200 200 214 187 200\n",
      " 186 186 186 186 186 186 186 186 186 186 186 186 187 188 186 186 172 229\n",
      "  91 148 246 164 201  91 107 121 121 275 119 290 230 115 230 146 343 247\n",
      " 316 343 192 191 203 187 185 134 287 206 399 385 230 230 119 146 119 105\n",
      " 119 104 287 287 287 287 288 287 287 247  76  76 214 205 175 175 175 175\n",
      " 175 175 214 178  76  77 369 172 172  90 134 134  91  75  76  75  75 104\n",
      " 105 119 143 103  89  89  89  89  89  89  89  89  89  89  90  90  90 185\n",
      " 200]\n",
      "412\n"
     ]
    }
   ],
   "source": [
    "## for visualizations\n",
    "print(pt_charg_point_df.columns)\n",
    "pt_charg_point_index = pt_charg_point_df['grid number'].to_numpy()\n",
    "print(pt_charg_point_index)\n",
    "print(max(pt_charg_point_index))"
   ]
  },
  {
   "cell_type": "code",
   "execution_count": 55,
   "id": "e879d626",
   "metadata": {},
   "outputs": [
    {
     "data": {
      "image/png": "[encoded data removed]",
      "text/plain": [
       "<Figure size 1200x600 with 1 Axes>"
      ]
     },
     "metadata": {},
     "output_type": "display_data"
    }
   ],
   "source": [
    "map_T = np.zeros((31, 14))\n",
    "for num in pt_charg_point_index:\n",
    "    num = num-1\n",
    "    x = num//14\n",
    "    y = num %14\n",
    "    map_T[x , y] = 1\n",
    "\n",
    "import numpy as np\n",
    "from matplotlib import pyplot as plt\n",
    "from matplotlib import colors\n",
    "\n",
    "cmap = colors.ListedColormap(['Blue','red'])\n",
    "plt.figure(figsize=(12,6))\n",
    "plt.pcolor(map_T.T,cmap=cmap,edgecolors='k', linewidths=3)\n",
    "plt.show()"
   ]
  },
  {
   "cell_type": "code",
   "execution_count": null,
   "id": "0508f1cd",
   "metadata": {},
   "outputs": [],
   "source": []
  },
  {
   "cell_type": "code",
   "execution_count": 87,
   "id": "7d6bd269",
   "metadata": {},
   "outputs": [
    {
     "name": "stdout",
     "output_type": "stream",
     "text": [
      "{400: [400], 398: [385, 397, 399, 412], 369: [369], 355: [355], 214: [214], 200: [200], 199: [199], 134: [134], 228: [228], 147: [147], 185: [185], 76: [76], 186: [186], 399: [399], 230: [230], 171: [171], 217: [217], 143: [143], 229: [229], 213: [213], 119: [119], 215: [215], 290: [290], 371: [356, 385], 356: [356], 300: [286, 287, 299], 243: [228, 229, 230, 242], 245: [230, 246], 175: [175], 305: [290, 291], 329: [316, 328, 342, 343], 160: [160], 150: [149, 164], 216: [216], 234: [234], 202: [202], 117: [117], 315: [316, 328], 274: [275, 287, 288], 176: [176], 383: [369, 382, 397], 151: [164], 314: [299, 327, 328], 161: [161], 344: [331, 343, 345], 247: [247], 170: [156, 157, 171, 184, 185], 172: [172], 91: [91], 205: [205], 146: [146], 397: [397], 192: [192], 104: [104], 191: [191], 272: [272], 164: [164], 103: [103], 162: [162], 193: [178, 192, 206], 304: [290, 291], 273: [272, 286, 287, 288], 287: [287], 262: [247, 248, 249, 275], 189: [189]}\n"
     ]
    }
   ],
   "source": [
    "## potential_list >= intereset_list\n",
    "## existing_list ?\n",
    "# pt_charg_point_index, interest_point_index, charg_point_index\n",
    "\n",
    "## Lets see if the point of interest is in the potential charging points list\n",
    "## if so, then we can easily put charging point there aka. place of interest\n",
    "## if not, we find a point in the neighboring area that is in the potential charging point list\n",
    "## also we should consider energy efficiency at this point/ points\n",
    "construct = {}\n",
    "neighbor = demand_df['NEIGHBORS'].to_numpy()\n",
    "neighbor = [np.array(ne[1:-1].replace(' ', '').split(','), dtype = int) for ne in neighbor]\n",
    "\n",
    "for k in interest_point_index:\n",
    "    if k in pt_charg_point_index:\n",
    "        construct[k] = [k]\n",
    "#     if k not in pt_charg_point_index:\n",
    "    else:\n",
    "        construct[k] = []\n",
    "        neighboring_area = neighbor[k-1]\n",
    "        for nei in neighboring_area:\n",
    "            if nei in pt_charg_point_index:\n",
    "                construct[k].append(nei)\n",
    "\n",
    "print(construct)"
   ]
  },
  {
   "cell_type": "code",
   "execution_count": 59,
   "id": "4e5dd1e8",
   "metadata": {},
   "outputs": [
    {
     "data": {
      "text/plain": [
       "(array([400, 398, 369, 369, 369, 369, 369, 369, 355, 214, 214, 214, 214,\n",
       "        214, 200, 199, 200, 134, 228, 214, 147, 214, 214, 214, 185, 369,\n",
       "        369,  76, 214, 186, 199, 199, 228, 399, 214, 214, 199, 214, 214,\n",
       "        214, 214, 200, 230, 171, 200, 217, 369, 369, 214, 228, 200, 214,\n",
       "        214, 214, 199, 171, 214, 199, 199, 143, 229, 213, 185, 119, 119,\n",
       "        215, 215, 229, 290, 290, 200, 355, 185, 228, 185, 214, 213, 214,\n",
       "        214, 371, 356, 300, 243, 300, 245, 175, 143, 305, 329, 160, 150,\n",
       "        171, 230, 216, 234, 202, 119, 160, 117, 315, 274, 214, 214, 215,\n",
       "        199, 176, 176, 383, 200, 214, 176, 151, 314, 200, 161, 344, 399,\n",
       "        247, 229, 170, 172,  91, 205, 146, 230, 397, 355, 150, 192, 150,\n",
       "        356, 175, 104, 191, 272, 164, 103, 162, 214,  91, 134, 193, 193,\n",
       "        164, 215, 304, 290, 273, 287, 262, 189]),\n",
       " array([ 89, 412, 328, 228, 200, 198, 176, 102, 145, 299, 214, 248, 171,\n",
       "        191, 200, 186, 214, 200, 116, 116, 228, 228,  88,  88, 228, 369,\n",
       "        369, 399, 400, 199, 214, 215, 214, 200, 184, 215, 107, 106, 107,\n",
       "        107, 121, 123, 109, 121,  88, 188, 145, 199, 242, 213, 117, 117,\n",
       "        103, 229, 228, 229, 115, 129, 176, 176, 176, 176, 176, 200, 200,\n",
       "        199, 200, 213, 214, 382, 199, 199, 199, 355, 228, 201, 176, 215,\n",
       "        215, 185, 185, 129, 213, 117, 103, 103, 103, 117, 103, 103, 103,\n",
       "        199, 203, 216, 199, 156, 129, 184, 198, 228, 229, 228, 228, 200,\n",
       "        200, 200, 247, 233, 247, 217, 217, 249, 234, 345, 331, 345, 291,\n",
       "        101, 213, 199, 199, 213, 199, 199, 233, 176, 176, 400, 400, 214,\n",
       "        185, 199, 397, 185, 146, 342, 356, 355, 355, 369, 355, 228, 327,\n",
       "         90, 200, 369, 185, 149, 134, 157, 187, 189, 104, 369, 369, 191,\n",
       "         90, 286, 272, 328, 343, 147,  89, 213, 202, 202, 201, 246, 215,\n",
       "        177, 103, 230, 230, 202, 144,  91, 115, 115, 171, 161, 160, 161,\n",
       "        161,  61,  61, 185, 355, 205, 171, 171, 200, 162, 229, 316, 316,\n",
       "        103, 103, 116, 116, 116, 102,  89, 143, 102, 213, 146, 146, 192,\n",
       "        192, 200, 200, 200, 200, 214, 187, 200, 186, 186, 186, 186, 186,\n",
       "        186, 186, 186, 186, 186, 186, 186, 187, 188, 186, 186, 172, 229,\n",
       "         91, 148, 246, 164, 201,  91, 107, 121, 121, 275, 119, 290, 230,\n",
       "        115, 230, 146, 343, 247, 316, 343, 192, 191, 203, 187, 185, 134,\n",
       "        287, 206, 399, 385, 230, 230, 119, 146, 119, 105, 119, 104, 287,\n",
       "        287, 287, 287, 288, 287, 287, 247,  76,  76, 214, 205, 175, 175,\n",
       "        175, 175, 175, 175, 214, 178,  76,  77, 369, 172, 172,  90, 134,\n",
       "        134,  91,  75,  76,  75,  75, 104, 105, 119, 143, 103,  89,  89,\n",
       "         89,  89,  89,  89,  89,  89,  89,  89,  90,  90,  90, 185, 200]))"
      ]
     },
     "execution_count": 59,
     "metadata": {},
     "output_type": "execute_result"
    }
   ],
   "source": [
    "interest_point_index, pt_charg_point_index"
   ]
  },
  {
   "cell_type": "code",
   "execution_count": 78,
   "id": "6488851e",
   "metadata": {},
   "outputs": [],
   "source": [
    "neighbor = demand_df['NEIGHBORS'].to_numpy()\n",
    "# type(neighbor)\n",
    "k = np.array(neighbor[1][1:-1].replace(' ', '').split(','), dtype = int)\n",
    "\n",
    "# [ne for ne in neighbor]"
   ]
  },
  {
   "cell_type": "code",
   "execution_count": 83,
   "id": "990e203f",
   "metadata": {},
   "outputs": [
    {
     "data": {
      "text/plain": [
       "(1, 3, 15, 16, 17)"
      ]
     },
     "execution_count": 83,
     "metadata": {},
     "output_type": "execute_result"
    }
   ],
   "source": [
    "k[0],k[1], k[2], k[3], k[4]"
   ]
  },
  {
   "cell_type": "code",
   "execution_count": null,
   "id": "3a08477b",
   "metadata": {},
   "outputs": [],
   "source": []
  },
  {
   "cell_type": "code",
   "execution_count": 90,
   "id": "9e906ab2",
   "metadata": {},
   "outputs": [
    {
     "data": {
      "text/html": [
       "<div>\n",
       "<style scoped>\n",
       "    .dataframe tbody tr th:only-of-type {\n",
       "        vertical-align: middle;\n",
       "    }\n",
       "\n",
       "    .dataframe tbody tr th {\n",
       "        vertical-align: top;\n",
       "    }\n",
       "\n",
       "    .dataframe thead th {\n",
       "        text-align: right;\n",
       "    }\n",
       "</style>\n",
       "<table border=\"1\" class=\"dataframe\">\n",
       "  <thead>\n",
       "    <tr style=\"text-align: right;\">\n",
       "      <th></th>\n",
       "      <th>amenity</th>\n",
       "      <th>geometry</th>\n",
       "      <th>Latitude</th>\n",
       "      <th>Longitude</th>\n",
       "      <th>grid number</th>\n",
       "    </tr>\n",
       "  </thead>\n",
       "  <tbody>\n",
       "    <tr>\n",
       "      <th>2</th>\n",
       "      <td>restaurant</td>\n",
       "      <td>POINT (-2.872495786961546 56.46693379999114)</td>\n",
       "      <td>56.466934</td>\n",
       "      <td>-2.872496</td>\n",
       "      <td>369</td>\n",
       "    </tr>\n",
       "    <tr>\n",
       "      <th>3</th>\n",
       "      <td>restaurant</td>\n",
       "      <td>POINT (-2.873346686962511 56.46599179999032)</td>\n",
       "      <td>56.465992</td>\n",
       "      <td>-2.873347</td>\n",
       "      <td>369</td>\n",
       "    </tr>\n",
       "    <tr>\n",
       "      <th>4</th>\n",
       "      <td>restaurant</td>\n",
       "      <td>POINT (-2.873426086962618 56.46584759999016)</td>\n",
       "      <td>56.465848</td>\n",
       "      <td>-2.873426</td>\n",
       "      <td>369</td>\n",
       "    </tr>\n",
       "    <tr>\n",
       "      <th>5</th>\n",
       "      <td>restaurant</td>\n",
       "      <td>POINT (-2.874470586962676 56.46826679999267)</td>\n",
       "      <td>56.468267</td>\n",
       "      <td>-2.874471</td>\n",
       "      <td>369</td>\n",
       "    </tr>\n",
       "    <tr>\n",
       "      <th>6</th>\n",
       "      <td>restaurant</td>\n",
       "      <td>POINT (-2.87337658696255 56.46593739999025)</td>\n",
       "      <td>56.465937</td>\n",
       "      <td>-2.873377</td>\n",
       "      <td>369</td>\n",
       "    </tr>\n",
       "    <tr>\n",
       "      <th>7</th>\n",
       "      <td>restaurant</td>\n",
       "      <td>POINT (-2.872903486961812 56.46709969999133)</td>\n",
       "      <td>56.467100</td>\n",
       "      <td>-2.872904</td>\n",
       "      <td>369</td>\n",
       "    </tr>\n",
       "    <tr>\n",
       "      <th>25</th>\n",
       "      <td>restaurant</td>\n",
       "      <td>POINT (-2.876396586964792 56.46635079999101)</td>\n",
       "      <td>56.466351</td>\n",
       "      <td>-2.876397</td>\n",
       "      <td>369</td>\n",
       "    </tr>\n",
       "    <tr>\n",
       "      <th>26</th>\n",
       "      <td>supermarket</td>\n",
       "      <td>POINT (-2.872844486961724 56.46723309999146)</td>\n",
       "      <td>56.467233</td>\n",
       "      <td>-2.872844</td>\n",
       "      <td>369</td>\n",
       "    </tr>\n",
       "    <tr>\n",
       "      <th>46</th>\n",
       "      <td>restaurant</td>\n",
       "      <td>POINT (-2.876109586964176 56.46758839999217)</td>\n",
       "      <td>56.467588</td>\n",
       "      <td>-2.876110</td>\n",
       "      <td>369</td>\n",
       "    </tr>\n",
       "    <tr>\n",
       "      <th>47</th>\n",
       "      <td>restaurant</td>\n",
       "      <td>POINT (-2.876080086964137 56.46764029999223)</td>\n",
       "      <td>56.467640</td>\n",
       "      <td>-2.876080</td>\n",
       "      <td>369</td>\n",
       "    </tr>\n",
       "  </tbody>\n",
       "</table>\n",
       "</div>"
      ],
      "text/plain": [
       "        amenity                                      geometry   Latitude  \\\n",
       "2    restaurant  POINT (-2.872495786961546 56.46693379999114)  56.466934   \n",
       "3    restaurant  POINT (-2.873346686962511 56.46599179999032)  56.465992   \n",
       "4    restaurant  POINT (-2.873426086962618 56.46584759999016)  56.465848   \n",
       "5    restaurant  POINT (-2.874470586962676 56.46826679999267)  56.468267   \n",
       "6    restaurant   POINT (-2.87337658696255 56.46593739999025)  56.465937   \n",
       "7    restaurant  POINT (-2.872903486961812 56.46709969999133)  56.467100   \n",
       "25   restaurant  POINT (-2.876396586964792 56.46635079999101)  56.466351   \n",
       "26  supermarket  POINT (-2.872844486961724 56.46723309999146)  56.467233   \n",
       "46   restaurant  POINT (-2.876109586964176 56.46758839999217)  56.467588   \n",
       "47   restaurant  POINT (-2.876080086964137 56.46764029999223)  56.467640   \n",
       "\n",
       "    Longitude  grid number  \n",
       "2   -2.872496          369  \n",
       "3   -2.873347          369  \n",
       "4   -2.873426          369  \n",
       "5   -2.874471          369  \n",
       "6   -2.873377          369  \n",
       "7   -2.872904          369  \n",
       "25  -2.876397          369  \n",
       "26  -2.872844          369  \n",
       "46  -2.876110          369  \n",
       "47  -2.876080          369  "
      ]
     },
     "execution_count": 90,
     "metadata": {},
     "output_type": "execute_result"
    }
   ],
   "source": [
    "interest_point_df.loc[interest_point_df['grid number'] == 369]"
   ]
  },
  {
   "cell_type": "code",
   "execution_count": 92,
   "id": "0096f89c",
   "metadata": {},
   "outputs": [
    {
     "data": {
      "text/html": [
       "<div>\n",
       "<style scoped>\n",
       "    .dataframe tbody tr th:only-of-type {\n",
       "        vertical-align: middle;\n",
       "    }\n",
       "\n",
       "    .dataframe tbody tr th {\n",
       "        vertical-align: top;\n",
       "    }\n",
       "\n",
       "    .dataframe thead th {\n",
       "        text-align: right;\n",
       "    }\n",
       "</style>\n",
       "<table border=\"1\" class=\"dataframe\">\n",
       "  <thead>\n",
       "    <tr style=\"text-align: right;\">\n",
       "      <th></th>\n",
       "      <th>amenity</th>\n",
       "      <th>geometry</th>\n",
       "      <th>Latitude</th>\n",
       "      <th>Longitude</th>\n",
       "      <th>grid number</th>\n",
       "    </tr>\n",
       "  </thead>\n",
       "  <tbody>\n",
       "    <tr>\n",
       "      <th>1</th>\n",
       "      <td>restaurant</td>\n",
       "      <td>POINT (-2.849993386942502 56.47134889999293)</td>\n",
       "      <td>56.471349</td>\n",
       "      <td>-2.849993</td>\n",
       "      <td>398</td>\n",
       "    </tr>\n",
       "  </tbody>\n",
       "</table>\n",
       "</div>"
      ],
      "text/plain": [
       "      amenity                                      geometry   Latitude  \\\n",
       "1  restaurant  POINT (-2.849993386942502 56.47134889999293)  56.471349   \n",
       "\n",
       "   Longitude  grid number  \n",
       "1  -2.849993          398  "
      ]
     },
     "execution_count": 92,
     "metadata": {},
     "output_type": "execute_result"
    }
   ],
   "source": [
    "interest_point_df.loc[interest_point_df['grid number'] == 398]"
   ]
  },
  {
   "cell_type": "code",
   "execution_count": null,
   "id": "644d0e3b",
   "metadata": {},
   "outputs": [],
   "source": []
  },
  {
   "cell_type": "code",
   "execution_count": 94,
   "id": "b7454905",
   "metadata": {},
   "outputs": [
    {
     "data": {
      "text/plain": [
       "Index(['Ref', 'geometry', 'Number of Charging Points',\n",
       "       'Number of Slow Charging Points', 'Number of Fast Charging Points',\n",
       "       'Number of Rapid Charging Points', 'Number of PoI',\n",
       "       'Number of Potential Locations', 'Distance from Centre', 'NEIGHBORS',\n",
       "       'Demand_0', 'Demand_1', 'Demand_2', 'Demand_3'],\n",
       "      dtype='object')"
      ]
     },
     "execution_count": 94,
     "metadata": {},
     "output_type": "execute_result"
    }
   ],
   "source": [
    "## lets use the demand table pandas dataframe here:\n",
    "demand_df.columns"
   ]
  },
  {
   "cell_type": "code",
   "execution_count": 99,
   "id": "89046dcc",
   "metadata": {},
   "outputs": [
    {
     "data": {
      "text/plain": [
       "numpy.int64"
      ]
     },
     "execution_count": 99,
     "metadata": {},
     "output_type": "execute_result"
    }
   ],
   "source": [
    "neighbor = demand_df['NEIGHBORS'].to_numpy()\n",
    "neighbor = [np.array(ne[1:-1].replace(' ', '').split(','), dtype = int) for ne in neighbor]\n",
    "\n",
    "num_potential = demand_df['Number of Potential Locations'].to_numpy()\n",
    "num_interest = demand_df['Number of PoI'].to_numpy()\n",
    "\n",
    "construct = {}\n",
    "\n",
    "for i in range()"
   ]
  },
  {
   "cell_type": "code",
   "execution_count": null,
   "id": "6464cd38",
   "metadata": {},
   "outputs": [],
   "source": []
  }
 ],
 "metadata": {
  "kernelspec": {
   "display_name": "Python 3 (ipykernel)",
   "language": "python",
   "name": "python3"
  },
  "language_info": {
   "codemirror_mode": {
    "name": "ipython",
    "version": 3
   },
   "file_extension": ".py",
   "mimetype": "text/x-python",
   "name": "python",
   "nbconvert_exporter": "python",
   "pygments_lexer": "ipython3",
   "version": "3.9.15"
  }
 },
 "nbformat": 4,
 "nbformat_minor": 5
}
